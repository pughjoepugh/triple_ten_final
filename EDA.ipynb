{
 "cells": [
  {
   "cell_type": "markdown",
   "id": "ad8ad7c0",
   "metadata": {},
   "source": [
    "InterConnect: Identify clients at risk of chrun\n",
    "\n",
    "___________________________________________________________________________________________________________\n",
    "EDA\n",
    "\n",
    "InterConnect has supplied us with 4 csv files about their customers, and the services they use from InterConnect. We have been asked to forecast churn for customers of InterConnect, specifically our goal is to pinpoint which clients are most likely to leave, allowing InterConnect to intervene with targeted promotions for retaining business.\n",
    "\n",
    "Data is loaded, then cleaned while we explore features. Missing values will be filled in, some naming conventions are standardized, data type corrections, incorrect data values corrected, some feature engineering is conducted, conversion of yes/ no to binary 1/0, data files were merged, user behavior was explored, feature distributions were compared, and comparing churned clients to existing one was executed."
   ]
  },
  {
   "cell_type": "code",
   "execution_count": null,
   "id": "34183605",
   "metadata": {},
   "outputs": [],
   "source": [
    "import pandas as pd\n",
    "import numpy as np\n",
    "import os\n",
    "\n",
    "import matplotlib.pyplot as plt\n",
    "import seaborn as sns"
   ]
  },
  {
   "cell_type": "code",
   "execution_count": null,
   "id": "e686b084",
   "metadata": {},
   "outputs": [],
   "source": [
    "# load the csv files\n",
    "# what are the csv files?\n",
    "\n",
    "# directory location\n",
    "folder_path = '/datasets/final_provider/'\n",
    "\n",
    "# store the .csv file names\n",
    "csv_files = [every_file for every_file in os.listdir(folder_path) if every_file.endswith('.csv')]\n",
    "\n",
    "# snapshot of the files\n",
    "print(csv_files)"
   ]
  },
  {
   "cell_type": "code",
   "execution_count": null,
   "id": "3f410dcd",
   "metadata": {},
   "outputs": [],
   "source": [
    "# load the csv files\n",
    "df_0 = pd.read_csv(folder_path + csv_files[0])\n",
    "df_1 = pd.read_csv(folder_path + csv_files[1])\n",
    "df_2 = pd.read_csv(folder_path + csv_files[2])\n",
    "df_3 = pd.read_csv(folder_path + csv_files[3])"
   ]
  },
  {
   "cell_type": "code",
   "execution_count": null,
   "id": "df147358",
   "metadata": {},
   "outputs": [],
   "source": [
    "# df sizes\n",
    "print(df_0.shape, df_1.shape, df_2.shape, df_3.shape)"
   ]
  },
  {
   "cell_type": "markdown",
   "id": "9d2b0a70",
   "metadata": {},
   "source": [
    "**Each Dataframe is connected through the 'customerID', which is a unique customer identifier found in each dataframe** <br> df's 0 and 2 have every user's (customerID), we will merge into one of them\n"
   ]
  },
  {
   "cell_type": "code",
   "execution_count": null,
   "id": "7f0648c3",
   "metadata": {},
   "outputs": [],
   "source": [
    "# merge all dataframes together\n",
    "df = df_0.merge(df_1, \n",
    "                how='left', \n",
    "                on='customerID')\n",
    "\n",
    "df = df.merge(df_2,\n",
    "              how='left', \n",
    "              on='customerID')\n",
    "\n",
    "df = df.merge(df_3, \n",
    "              how='left', \n",
    "              on='customerID')\n",
    "df.info()"
   ]
  },
  {
   "cell_type": "markdown",
   "id": "efc5a549",
   "metadata": {},
   "source": [
    "thoughts\n",
    "___\n",
    "* 7043 rows or different customer contracts, 20 columns\n",
    "* some missing values\n",
    "* columns include: unique ID, start and end date of contract, some billing information, how much they pay, and user behavior stats\n",
    "* only two numeric columns? data types investigate\n",
    "* Not all users, use all features. some have only one line or dont use internet etc."
   ]
  },
  {
   "cell_type": "code",
   "execution_count": null,
   "id": "75450f1a",
   "metadata": {},
   "outputs": [],
   "source": [
    "# visualize it \n",
    "df.head()"
   ]
  },
  {
   "cell_type": "markdown",
   "id": "fd27bfdc",
   "metadata": {},
   "source": [
    "thoughts\n",
    "____\n",
    "Lots of columns to make binary, and some potential feature engineering as I learn what columns means.\n",
    "\n",
    "more specific thoughts\n",
    "+ dates will need to be explored, feature engineered? maybe create some sort of loyalty ranking/system\n",
    "+ type, if two types, then make binary\n",
    "+ multiple lines: no=0, missing=0, yes=1\n",
    "+ paperlessbilling turn into binary\n",
    "+ payment method, explore how many different options there are\n",
    "+ monthly charges turn into float\n",
    "+ totalcharges, not sure what yet\n",
    "+ gender, make binary\n",
    "+ senior citizen might be fine\n",
    "+ partner means what? make binary\n",
    "+ dependents make binary\n",
    "+ internet type, how mnay options\n",
    "+ onlinesecurity, onlinebackup, online protection, tech support, deviceProtection, streaming movies, streaming tv make binary?"
   ]
  },
  {
   "cell_type": "code",
   "execution_count": null,
   "id": "826f4dfd",
   "metadata": {},
   "outputs": [],
   "source": [
    "# gender column name doesn't follow the naming convention\n",
    "df = df.rename(columns={'gender':'Gender'})"
   ]
  },
  {
   "cell_type": "code",
   "execution_count": null,
   "id": "828143d8",
   "metadata": {},
   "outputs": [],
   "source": [
    "# convert dates to date format\n",
    "# begin date looks complete, no missing values, if no error occurs then they are all the right format\n",
    "df['BeginDate'] = pd.to_datetime(df['BeginDate'])"
   ]
  },
  {
   "cell_type": "code",
   "execution_count": null,
   "id": "921b3864",
   "metadata": {},
   "outputs": [],
   "source": [
    "# total charges is current object type, contains non-numeric values\n",
    "\n",
    "# convert non-numeric entries to missing values\n",
    "test = pd.to_numeric(df['TotalCharges'], errors='coerce')\n",
    "\n",
    "# locate where the incorrect entries are\n",
    "nan_mask = test.isna()\n",
    "idx_nan = df[nan_mask].index.to_list()\n",
    "\n",
    "# who are they?\n",
    "df.loc[nan_mask]"
   ]
  },
  {
   "cell_type": "markdown",
   "id": "6e57daf1",
   "metadata": {},
   "source": [
    "thoughts\n",
    "___ \n",
    "- The incorrect total charge entries appear to be blank. \n",
    "- They also all were signed up on the most recent day. they are brand new customers\n",
    "- we should make total charges 0 because they perhaps havent paid a bill yet."
   ]
  },
  {
   "cell_type": "code",
   "execution_count": null,
   "id": "26d8d5c3",
   "metadata": {},
   "outputs": [],
   "source": [
    "# change the NaN's to 0 and convert the totalcharge column to numeric\n",
    "\n",
    "# change nan values to 0\n",
    "df.loc[nan_mask, 'TotalCharges'] = 0\n",
    "\n",
    "#  change the column dtype\n",
    "df['TotalCharges'] = df['TotalCharges'].astype('float64')"
   ]
  },
  {
   "cell_type": "code",
   "execution_count": null,
   "id": "ac9dfc92",
   "metadata": {},
   "outputs": [],
   "source": [
    "# end date column has 'no' values for clients that have no churned we need to handle these values\n",
    "df['EndDate'].value_counts()"
   ]
  },
  {
   "cell_type": "markdown",
   "id": "9bfceb60",
   "metadata": {},
   "source": [
    "thoughts\n",
    "____\n",
    "+ out of our ~7000 rows 5100 haven't churned!\n",
    "+ and every client who has churned, churned on only 4 different days? So according to this data our customers only cancel their service from October to January? Looks like we should market promotions starting around Labor Day - New Years. Something about summer ending (I assume northern hemisphere) makes people more aware of their billing subscriptions or the realative quality of them? Is this when our competition offers promotions?"
   ]
  },
  {
   "cell_type": "code",
   "execution_count": null,
   "id": "704769df",
   "metadata": {},
   "outputs": [],
   "source": [
    "# replace 'No' with missing values\n",
    "df['EndDate'] = df['EndDate'].replace('No', np.nan)\n",
    "\n",
    "# convert the column to datetime format\n",
    "df['EndDate'] = pd.to_datetime(df['EndDate'])"
   ]
  },
  {
   "cell_type": "code",
   "execution_count": null,
   "id": "3631c87a",
   "metadata": {},
   "outputs": [],
   "source": [
    "# create the target feature column of churned \n",
    "df['Churn'] = df['EndDate'].notnull().astype(int)"
   ]
  },
  {
   "cell_type": "markdown",
   "id": "894b86dc",
   "metadata": {},
   "source": [
    "**Deeper exploration:**\n",
    "___\n",
    "\n",
    "- CustomerID should be unique, but is it?\n",
    "- What is the range of Sign up dates?\n",
    "- What percent of clients have churned?\n",
    "- Popular join months?"
   ]
  },
  {
   "cell_type": "code",
   "execution_count": null,
   "id": "41754627",
   "metadata": {},
   "outputs": [],
   "source": [
    "# is customerID unique?\n",
    "print((len(df)) == (df.customerID.nunique()))"
   ]
  },
  {
   "cell_type": "code",
   "execution_count": null,
   "id": "643f6add",
   "metadata": {},
   "outputs": [],
   "source": [
    "# what is the range of sign up date?\n",
    "print(f\"Earliest sign up date is: {df['BeginDate'].min()}\")\n",
    "print(f\"Most recent sign up date is: {df['BeginDate'].max()}\")\n",
    "print()\n",
    "print()\n",
    "sns.set_style('whitegrid')\n",
    "df['BeginDate'].hist(bins=80)\n",
    "plt.title('Distribution of signup dates for InterConnect Clients')\n",
    "plt.xlabel('Signup date')\n",
    "plt.ylabel('Count')\n",
    "plt.show()\n"
   ]
  },
  {
   "cell_type": "markdown",
   "id": "ad39c6a7",
   "metadata": {},
   "source": [
    "thoughts\n",
    "___\n",
    "+ whatever happened in the middle of 2018, do that!\n",
    "+ Data begins in October 2013, and ends on February 2020.\n",
    "+ The range of EndDate's was easy to view in value_counts. Before October 2019 InterConnect hasn't lost any clients, starting October 2019 InterConnect began losing between 458-485 each month. No wonder they are so interested in who is about to churn. It is a new business problem for them. "
   ]
  },
  {
   "cell_type": "code",
   "execution_count": null,
   "id": "37948526",
   "metadata": {},
   "outputs": [],
   "source": [
    "# how many signups occurred during the churn?\n",
    "start_date_for_count = pd.to_datetime('2019-10-01')\n",
    "\n",
    "# bool mask to filter dates\n",
    "signups_since_oct1_mask = df['BeginDate'] >= start_date_for_count\n",
    "\n",
    "#signup count\n",
    "print(signups_since_oct1_mask.sum())"
   ]
  },
  {
   "cell_type": "code",
   "execution_count": null,
   "id": "c3bcf5db",
   "metadata": {},
   "outputs": [],
   "source": [
    "thoughts\n",
    "____\n",
    "Oh no! that's well less than churn. thats why they hired us."
   ]
  },
  {
   "cell_type": "code",
   "execution_count": null,
   "id": "f5b94b40",
   "metadata": {},
   "outputs": [],
   "source": [
    "# what is the monthly revenue loss from churned clients\n",
    "# The difference in churn - signups, multiplied by the average of those who churned. \n",
    "month_loss = (df['Churn'].sum() - signups_since_oct1_mask.sum()) * (df[df['Churn']==1]['MonthlyCharges'].mean())\n",
    "print(f\"This isn't exact as those who joined, have different bills from those who left, but InterConnect is approximately losing ${month_loss:.2f} a month in gross revenue\")"
   ]
  },
  {
   "cell_type": "code",
   "execution_count": null,
   "id": "4b5ff82c",
   "metadata": {},
   "outputs": [],
   "source": [
    "# what percent of clients have churned\n",
    "print(f\"{(df['Churn'].sum() / len(df))*100:.4f} % of subscriptions have been canceled\")"
   ]
  },
  {
   "cell_type": "code",
   "execution_count": null,
   "id": "8ab74ece",
   "metadata": {},
   "outputs": [],
   "source": [
    "# popular join months, create a column recording the month\n",
    "df['JoinMonth'] = df['BeginDate'].dt.month\n",
    "print(df['JoinMonth'].value_counts())\n",
    "\n",
    "sns.countplot(x='JoinMonth', data=df)\n",
    "plt.title('Member signups per month')\n",
    "plt.xlabel('Month')\n",
    "plt.ylabel('Count')\n",
    "plt.show()\n"
   ]
  },
  {
   "cell_type": "markdown",
   "id": "af44ed4d",
   "metadata": {},
   "source": [
    "thoughts\n",
    "____\n",
    "+ about a quarter of all subscriptions have canceled\n",
    "+ February is the most popular month for signups with 804, May is the least popular at 494"
   ]
  },
  {
   "cell_type": "code",
   "execution_count": null,
   "id": "5609686a",
   "metadata": {},
   "outputs": [],
   "source": [
    "# is this every february or a specific february?\n",
    "# create a column for join year\n",
    "df['JoinYear'] = df['BeginDate'].dt.year\n",
    "\n",
    "sns.set_style('whitegrid')\n",
    "february_signups = df[df['JoinMonth'] == 2].copy()\n",
    "february_signups['JoinYear'].value_counts().plot.bar()\n",
    "plt.title('February Signups by year')\n",
    "plt.xlabel('Year')\n",
    "plt.ylabel('Count')\n",
    "plt.show()"
   ]
  },
  {
   "cell_type": "markdown",
   "id": "9c8a06b9",
   "metadata": {},
   "source": [
    "thoughts\n",
    "___\n",
    "February is  not special, february 2014 was. Did a Valentines Day, presidents day or Superbowl promotion occur?"
   ]
  },
  {
   "cell_type": "code",
   "execution_count": null,
   "id": "459959e4",
   "metadata": {},
   "outputs": [],
   "source": [
    "# how long has each subscription existed?\n",
    "\n",
    "# most recent possible date\n",
    "pull_date = pd.to_datetime('2020-02-01')\n",
    "\n",
    "# whether a customer has churned, na is False or not churned\n",
    "condition = df['EndDate'].notna()\n",
    "\n",
    "# if churned, then whats the length\n",
    "value_if_true = (df['EndDate'] - df['BeginDate']).dt.days\n",
    "\n",
    "# if active, then pull_date - BeginDate\n",
    "value_if_false = (pull_date - df['BeginDate']).dt.days\n",
    "\n",
    "# populate the 'MemberLengthDays' column with the length of contract\n",
    "df['MemberLengthDays'] = np.where(condition, value_if_true, value_if_false)\n",
    "\n",
    "# make sure the value is 'int'\n",
    "df['MemberLengthDays'] = df['MemberLengthDays'].astype(int)\n",
    "\n"
   ]
  },
  {
   "cell_type": "code",
   "execution_count": null,
   "id": "fcdb8bf4",
   "metadata": {},
   "outputs": [],
   "source": [
    "print(f\"Newest member contract is: {df['MemberLengthDays'].min()} days old\")\n",
    "print(f\"Longest member contract is: {df['MemberLengthDays'].max()} days old\")"
   ]
  },
  {
   "cell_type": "code",
   "execution_count": null,
   "id": "be3b4eb4",
   "metadata": {},
   "outputs": [],
   "source": [
    "with pd.option_context('display.max_rows', 200):\n",
    "    print(df[df['Churn']==1]['MemberLengthDays'].value_counts())"
   ]
  },
  {
   "cell_type": "markdown",
   "id": "78880735",
   "metadata": {},
   "source": [
    "thoughts\n",
    "____\n",
    "Churn occurs in month intervals. We have month to month contracts and annual contracts. Most churn happened after one month (30 or 31 days). <br>The top 5 most common churn intervals are:<br>1. 1 month<br>2. 1 month<br>3. 2 months<br>4. 5 months<br>5. 3 months"
   ]
  },
  {
   "cell_type": "code",
   "execution_count": null,
   "id": "54fd58c1",
   "metadata": {},
   "outputs": [],
   "source": [
    "# manual count for how many churns were in the top5 = 630\n",
    "print(f\"{630/(df['Churn'].sum()) *100}% of churn occurred within the first 5 months\")"
   ]
  },
  {
   "cell_type": "code",
   "execution_count": null,
   "id": "38d880f1",
   "metadata": {},
   "outputs": [],
   "source": [
    "# what percentage of churn comes from clients who have lasted longer than a year?\n",
    "len(df[(df['Churn']==1) & (df['MemberLengthDays']>365)])/ df['Churn'].sum() *100"
   ]
  },
  {
   "cell_type": "markdown",
   "id": "ac3e8fb8",
   "metadata": {},
   "source": [
    "thoughts\n",
    "___\n",
    "InterConnect offers month to month and 1 year / two years plans. Honestly viewing churn rates after 5 months (top five churn time lines) and 1 year, it didn't spark the insight I had hoped. ~55% (the opposite of 44.5) of churn occurs within the first year. There could be some potential to offer promotions here althought customers who opt for month to month phone plans might be too transitional to really lock into telecommunication plans. This would require more customer data."
   ]
  },
  {
   "cell_type": "code",
   "execution_count": null,
   "id": "284508f2",
   "metadata": {},
   "outputs": [],
   "source": [
    "# monthly charges for churned or not\n",
    "\n",
    "sns.violinplot(x='Churn', y='MonthlyCharges', data=df, inner='quartile')\n",
    "plt.title('Monthly bills for active and former customers')\n",
    "plt.xlabel('Churn status')\n",
    "plt.xticks(ticks=[0, 1], labels=['Not Churned (0)', 'Churned (1)'])\n",
    "plt.ylabel('Monthly Bill ($)')\n",
    "plt.show()"
   ]
  },
  {
   "cell_type": "code",
   "execution_count": null,
   "id": "de56846b",
   "metadata": {},
   "outputs": [],
   "source": [
    "print(f\"Average Bill for Churned clients: {df[df['Churn']==1]['MonthlyCharges'].mean():.2f}\")\n",
    "print(f\"Average Bill for Existing clients: {df[df['Churn']==0]['MonthlyCharges'].mean():.2f}\")"
   ]
  },
  {
   "cell_type": "code",
   "execution_count": null,
   "id": "470c140a",
   "metadata": {},
   "outputs": [],
   "source": [
    "# where would the average non-churned bill( 61.27) land on the churned plot? it is above 25% but not by a lot\n",
    "\n",
    "print(f\"25% {df[df['Churn']==1]['MonthlyCharges'].quantile(.25)}\")\n",
    "print(f\"26% {df[df['Churn']==1]['MonthlyCharges'].quantile(.26)}\")\n",
    "print(f\"27% {df[df['Churn']==1]['MonthlyCharges'].quantile(.27)}\")\n",
    "print(f\"28% {df[df['Churn']==1]['MonthlyCharges'].quantile(.28)}\")\n",
    "print(f\"29% {df[df['Churn']==1]['MonthlyCharges'].quantile(.29)}\")"
   ]
  },
  {
   "cell_type": "markdown",
   "id": "9d87f83c",
   "metadata": {},
   "source": [
    "thoughts\n",
    "___\n",
    "+ Average Bill for Churned customers is higher than not churned.\n",
    "+ The average bill for existing clients (the larger cohort) would only be the 27th percentile for churned clients. We will continue with a machine learning problem because this is a school assignment however, it is clear that the higher your monthly bill is the more likely they will leave as customers."
   ]
  },
  {
   "cell_type": "code",
   "execution_count": null,
   "id": "25c1cdb3",
   "metadata": {},
   "outputs": [],
   "source": [
    "# who cancels their subscriptions?\n",
    "# groupby chart of percentages\n",
    "# do this after we convert stuff to binary"
   ]
  },
  {
   "cell_type": "code",
   "execution_count": null,
   "id": "9842d374",
   "metadata": {},
   "outputs": [],
   "source": [
    "# convert binary column values\n",
    "def encode_column(columns_to_encode, dataframe):\n",
    "    \"\"\"\n",
    "    Converts multiple specified columns into machine learning model ready values:\n",
    "    if a column has less than 3 options then:\n",
    "    'Yes' maps to 1 and 'No' or missing map to 0\n",
    "    for columns with 3 or more options then one hot encoding will be done.\n",
    "\n",
    "    Args: \n",
    "    columns_to_encode (str or list of strings): the columns we want to convert\n",
    "    dataframe (pd.DataFrame): pass the dataframe to modify\n",
    "\n",
    "    Returns:\n",
    "    Dataframe with updated data\n",
    "\n",
    "    Raises:\n",
    "    TypeError: If 'dataframe' is not a pandas DataFrame or 'columns_to_encode' is not a string or list of strings.\n",
    "    KeyError: If the column is not part of the dataframe\n",
    "    \"\"\"\n",
    "\n",
    "    # make sure inputs are correct\n",
    "    if not isinstance(dataframe, pd.DataFrame):\n",
    "        raise TypeError(f\"Expected a pd.DataFrame, but got {type(dataframe)}\")\n",
    "\n",
    "    # confirm columns_to_encode is a list for iteration\n",
    "    if isinstance(columns_to_encode, str):\n",
    "        columns_list = [columns_to_encode]\n",
    "        \n",
    "    elif isinstance(columns_to_encode, (list, pd.Series, pd.Index)):\n",
    "        columns_list = list(columns_to_encode)\n",
    "        \n",
    "    else:\n",
    "        raise TypeError(f\"Expected 'columns_to_encode' to be a string or a list/Series/Index of strings, but got {type(columns_to_encode)}\")\n",
    "\n",
    "    # map entries \n",
    "    mapping = {'Yes': 1, \n",
    "               'No': 0, \n",
    "               np.nan: 0, \n",
    "               'Male': 0,\n",
    "               'Female': 1,\n",
    "               'Fiber optic': 0, \n",
    "               'DSL': 1}\n",
    "\n",
    "    # loop through columns to encode\n",
    "    for col_name in columns_list:\n",
    "        if col_name not in dataframe.columns:\n",
    "            raise KeyError(f\"Column '{col_name}' not found in the DataFrame.\")\n",
    "            \n",
    "        # print status\n",
    "        print(f\"\\n\\nColumn: '{col_name}'\")\n",
    "        print(f\"Original data type: {dataframe[col_name].dtype}\")\n",
    "        print(f\"Original value counts (w/ NaN):\\n{dataframe[col_name].value_counts(dropna=False)}\\n\")\n",
    "\n",
    "        # determine which type of encoding needs to be executed\n",
    "        unique_count = dataframe[col_name].nunique()\n",
    "\n",
    "        # binary encoding\n",
    "        if unique_count <= 2:\n",
    "            dataframe[col_name] = dataframe[col_name].replace(mapping)\n",
    "\n",
    "            # output status\n",
    "            print(f\"Column data type is now: {dataframe[col_name].dtype}\")\n",
    "            print(f\"No or missing is now 0, Yes is 1\\n{dataframe[col_name].value_counts(dropna=False)}\")\n",
    "\n",
    "        # one hot encoding\n",
    "        else:\n",
    "            # use pd.get_dummies to One Hot Encode\n",
    "            dataframe = pd.get_dummies(dataframe, columns=[col_name], prefix=col_name, dtype=int, dummy_na=False)\n",
    "\n",
    "            # print dummy columns\n",
    "            print(f\"New columns created for '{col_name}':\")\n",
    "    \n",
    "            dummy_cols = [col for col in dataframe.columns if col.startswith(f'{col_name}_')]\n",
    "                \n",
    "            if dummy_cols:\n",
    "                print(dataframe[dummy_cols].head())\n",
    "                print(f\"Data types of new dummy columns: {dataframe[dummy_cols].dtypes.unique()}\")\n",
    "\n",
    "    return dataframe"
   ]
  },
  {
   "cell_type": "code",
   "execution_count": null,
   "id": "b2b68181",
   "metadata": {},
   "outputs": [],
   "source": [
    "part_one = list(range(3,6))\n",
    "part_two = list(range(8,20))\n",
    "columns_list = part_one + part_two\n",
    "print(columns_list)"
   ]
  },
  {
   "cell_type": "code",
   "execution_count": null,
   "id": "2b397299",
   "metadata": {},
   "outputs": [],
   "source": [
    "df = encode_column(df.columns[columns_list], df)"
   ]
  },
  {
   "cell_type": "code",
   "execution_count": null,
   "id": "55921b11",
   "metadata": {},
   "outputs": [],
   "source": [
    "df.groupby('Churn').mean().T"
   ]
  },
  {
   "cell_type": "markdown",
   "id": "1cf9e6fd",
   "metadata": {},
   "source": [
    "thoughts\n",
    "___\n",
    "\n",
    "Feature use where churn is more likely:\n",
    "- paperless billing, although popular for both\n",
    "- multiple lines, slightly\n",
    "- senior citizen, this could be age related, death, moving into assisted facility or into family home\n",
    "- streamingtv, and streaming movies appear to be the exact same\n",
    "- month to month bill (extreme correlation)\n",
    "- payment by electronic check, not sure what this is but relates to churn\n",
    "\n",
    "**88.6% of churn comes from month to month clients**\n",
    "\n",
    "Features where churn is less likely:\n",
    "- has partner\n",
    "- has dependents\n",
    "- has internet\n",
    "- has internet backup\n",
    "- has internet security\n",
    "- device protection\n",
    "- tech support\n",
    "- one year or two year contract\n",
    "- any payment method that isn't electronic check\n",
    "\n",
    "**The average lifetime charges for churned clients is 1531 USD at an average of 74/month**\n",
    "\n",
    "**The average lifetime charges for existing clients is 2550 USD at an averge of 61/month**\n",
    "\n",
    "Smaller bills lead to greater lifetime earning. We do not have information about operation costs for InterConnect. InterConnect should investigate what the operational cost is to host an additional line for phone or internet service. So far it appears that people do not cancel less expensive bills, and their clients dont seem to cancel annual contracts. They should definitely promote the annual contracts. If someone's lifestyle is too transitional for an annual contract then perhaps there isn't as much you can do to retain their business (this is speculation). The features which seem to contribute toward business retention also appear to be more stable lifestyle.\n"
   ]
  },
  {
   "cell_type": "code",
   "execution_count": null,
   "id": "1b15c06d",
   "metadata": {},
   "outputs": [],
   "source": [
    "# most of the churn is month to month clients, and most of the churn has been recent. When did month-to-month begin?\n",
    "month_to_month_clients = df[df['Type_Month-to-month'] == 1]\n",
    "\n",
    "# first month to month contract date\n",
    "print(month_to_month_clients['BeginDate'].min())"
   ]
  },
  {
   "cell_type": "markdown",
   "id": "60aa6db9",
   "metadata": {},
   "source": [
    "thoughts\n",
    "____\n",
    "Month to month contracts are not new, why the sudden churn?"
   ]
  },
  {
   "cell_type": "code",
   "execution_count": null,
   "id": "73844561",
   "metadata": {},
   "outputs": [],
   "source": [
    "# visualizing churn correlation in descending order\n",
    "# empty dictionary\n",
    "corr_dict ={}\n",
    "# loop through columns, skipping a few\n",
    "for col in df.columns:\n",
    "    if col in ['Churn', 'customerID', 'EndDate', 'BeginDate', 'Type']:\n",
    "        continue\n",
    "    # store the correlation info in the dictionary\n",
    "    corr_dict[col] = df['Churn'].corr(df[col])\n",
    "\n",
    "corr_series = pd.Series(corr_dict)\n",
    "print(corr_series.sort_values(ascending=False))"
   ]
  },
  {
   "cell_type": "markdown",
   "id": "848fa89f",
   "metadata": {},
   "source": [
    "thoughts\n",
    "___\n",
    "We saw a lot of this information earlier when we presented the differences between churn and unchurned clients. "
   ]
  },
  {
   "cell_type": "code",
   "execution_count": null,
   "id": "e9a69115",
   "metadata": {},
   "outputs": [],
   "source": [
    "plt.figure(figsize=(14, 14))\n",
    "# Select only numerical columns for correlation\n",
    "numerical_df = df.select_dtypes(include=np.number)\n",
    "sns.heatmap(numerical_df.corr(), annot=True, cmap='coolwarm', fmt=\".2f\", linewidths=.5)\n",
    "plt.title('Correlation Matrix of Numerical Features')\n",
    "plt.show()"
   ]
  },
  {
   "cell_type": "markdown",
   "id": "8d283582",
   "metadata": {},
   "source": [
    "thoughts\n",
    "____\n",
    "similiar info as before, compounds the notion that gender is no correlated to any feature, not just churned"
   ]
  },
  {
   "cell_type": "code",
   "execution_count": null,
   "id": "d80feb01",
   "metadata": {},
   "outputs": [],
   "source": [
    "\n",
    "# look for outliers\n",
    "df[df['Churn']==0]['MonthlyCharges'].hist(bins=100)\n"
   ]
  },
  {
   "cell_type": "code",
   "execution_count": null,
   "id": "961674c8",
   "metadata": {},
   "outputs": [],
   "source": [
    "# look for outliers\n",
    "df[df['Churn']==1]['MonthlyCharges'].hist(bins=100)\n"
   ]
  },
  {
   "cell_type": "code",
   "execution_count": null,
   "id": "2c65da0c",
   "metadata": {},
   "outputs": [],
   "source": [
    "# remove less meaningful columns\n",
    "col_to_drop = ['BeginDate', 'EndDate', 'TotalCharges', 'Gender', 'JoinMonth', 'JoinYear']\n",
    "df.drop(columns=col_to_drop, inplace=True)"
   ]
  },
  {
   "cell_type": "code",
   "execution_count": null,
   "id": "dcc4ac89",
   "metadata": {},
   "outputs": [],
   "source": [
    "df.groupby(['Type_Month-to-month', 'Churn']).mean().T"
   ]
  },
  {
   "cell_type": "markdown",
   "id": "c652cb7b",
   "metadata": {},
   "source": [
    "thoughts\n",
    "___\n",
    "+ month to month (m2m) is more likely to be paperless\n",
    "+ if a senior citizen is m2m then they are more likely to churn\n",
    "+ partner or dependents less likely to churn\n",
    "+ having internet service discourages churn\n",
    "+ any device upgrade/ extra services (device protection etc.) less likely to churn, maybe promo?\n",
    "+ and electronic checks still mean churn, is this payment method annoying or something?"
   ]
  },
  {
   "cell_type": "code",
   "execution_count": null,
   "id": "95ac83b4",
   "metadata": {},
   "outputs": [],
   "source": [
    "df.groupby(['Type_One year', 'Churn']).mean().T"
   ]
  },
  {
   "cell_type": "markdown",
   "id": "21024291",
   "metadata": {},
   "source": [
    "thoughts\n",
    "____\n",
    "+ higher monthly bill means more churn\n",
    "+ partner yes, churn yes, one-year no, is a rare combo\n",
    "+ dependents yes, churn yes, one-year no is a rare combo\n",
    "+ if you have device upgrades you are more likely to churn"
   ]
  },
  {
   "cell_type": "code",
   "execution_count": null,
   "id": "0477a2b5",
   "metadata": {},
   "outputs": [],
   "source": [
    "df.groupby(['Type_Two year', 'Churn']).mean().T"
   ]
  },
  {
   "cell_type": "markdown",
   "id": "2bf208c5",
   "metadata": {},
   "source": [
    "thoughts\n",
    "___\n",
    "+ two year contracts were not as dramatic.\n",
    "+ multiple lines more likely to churn\n",
    "+ partner + two year contract = not churned\n",
    "+ mailed check means not churned essentially\n",
    "+ device upgrades more likely to be a two year contract"
   ]
  },
  {
   "cell_type": "code",
   "execution_count": null,
   "id": "39cba7a8",
   "metadata": {},
   "outputs": [],
   "source": [
    "# final column name adjustments\n",
    "df = df.rename(columns={'customerID': 'CustomerID', \n",
    "                   'Type_Month-to-month':'Type_Month_To_Month', \n",
    "                   'Type_One year':'Type_One_Year', \n",
    "                   'Type_Two year':'Type_Two_Year', \n",
    "                   'PaymentMethod_Bank transfer (automatic)':'PaymentMethod_Bank_Transfer_Automatic', \n",
    "                   'PaymentMethod_Credit card (automatic)': 'PaymentMethod_Credit_Card_Automatic',\n",
    "                   'PaymentMethod_Electronic check': 'PaymentMethod_Electronic_Check',\n",
    "                   'PaymentMethod_Mailed check': 'PaymentMethod_Mailed_Check'})"
   ]
  },
  {
   "cell_type": "markdown",
   "id": "cc1d0951",
   "metadata": {},
   "source": [
    "conclusion\n",
    "____\n",
    "Data has been cleaned and explored. CustomerID is unique for each customer, and there are no duplicates. InterConnect is concerned about churn, and it is understandable why. All of the churn has occurred in the last four months, with around 460 per month, totaling 1869 customers. During that time only 938 signups occurred. The difference of ~700 clients is a revenue decrease of approximately $69,000 a month. InterConnect saw an dramatic increase of signups in 2018. They should explore what business decisions or events around this time, could be recycled for today. Signups are lowest during summer months. Most of the clients who churn are 'month-to-month' users (88.6% of churn is from Month to month). The month to month contract has been around for years. It wasn't simply they offered a new short term plan, and people churn now. \n",
    "\n",
    "Clients who churn have a higher average monthly bill. I did not conduct a statistic test to confirm an event, however the 27% percentile of churned clients pays a higher bill than non-churned clients. There are several features that appear to correlate to churn. These include: senior citizen, higher monthly bills, electronic checks, and month-to-month subscriptions.\n",
    "\n",
    "Features where churn was less likely: has partner, has dependents, has interent service, has internet backup, security, device protection, or tech support. Being on an annual style contract as discourages churn.\n",
    "\n",
    "\n",
    "The average lifetime charges for churned clients is 1531 USD at an average of 74/month\n",
    "\n",
    "The average lifetime charges for existing clients is 2550 USD at an averge of 61/month\n",
    "\n",
    "Customers with smaller monthly bills tend to have longer tenures, leading to greater overall lifetime revenue. We do not have information about operation costs for InterConnect. InterConnect should investigate what the operational cost is to host an additional line for phone or internet service. So far it appears that people do not cancel less expensive bills, and their clients dont seem to cancel annual contracts. \n",
    "\n",
    "They should definitely promote the annual contracts. If someone's lifestyle is too transitional for an annual contract then perhaps there isn't as much you can do to retain their business (this is speculation). The features which seem to contribute toward business retention also appear to be more stable lifestyle.\n",
    "\n",
    "questions:\n",
    "+ Can we identify distinct segments or 'profiles' within the 'Month-to-month' customer base (with clustering) who exhibit retention patterns similar to annual contract holders, potentially for targeted promotional offers to convert them?\n",
    "+ There are also feature that promote non-churn, would bundling or promoting these features within less expensive plans (or offering them at reduced rates) significantly increase customer longevity, especially given the observed retention of customers with smaller bills?\n",
    "+ Is there a monthly bill threshold where going beyond that number promotes churn? \n",
    "+ All the churn has occurred recently, do we have new competition that wasn't previously available? Has the quality of service offered been affected in the last four months? whether due to uncontrolable stuff like weather or service outages?\n",
    "\n",
    "plan of action:\n",
    "\n",
    "We identified several features which may indicate churn status. Our modeling will pair these together creating member 'profiles' and identify those who are expected to churn, based on similiarities to previous churned clientele.\n",
    "\n",
    "- split the data for features/ target, and for training validation sets to ensure robust model development and unbiased performance evaluation.\n",
    "- based on EDA insights and initial correlation analysis, select the most relevant features to be modeled on, to speed up training, and improve model interpretability/generalization\n",
    "- apply appropriate scaling for continuous numerical features, includes member length, monthly charges (fit/ transform training, and just transform testing)\n",
    "- choose models suited for both our data and the type of question we want to answer. Beginning with more interpretable models, to predict customer churn\n",
    "- train selected models and evaulate performances using the appropriate metrics, then perform hyperparameter tuning to optimize the best performing models\n"
   ]
  }
 ],
 "metadata": {
  "language_info": {
   "name": "python"
  }
 },
 "nbformat": 4,
 "nbformat_minor": 5
}
